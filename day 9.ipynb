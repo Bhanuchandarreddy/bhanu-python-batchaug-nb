{
 "cells": [
  {
   "cell_type": "code",
   "execution_count": 2,
   "metadata": {},
   "outputs": [],
   "source": [
    "# Menu Card\n",
    "# Contact Application"
   ]
  },
  {
   "cell_type": "code",
   "execution_count": 5,
   "metadata": {},
   "outputs": [
    {
     "name": "stdout",
     "output_type": "stream",
     "text": [
      "Ramya Restaurent\n",
      "Items available....../n\n",
      "idly Rs/- 20\n",
      "dosa Rs/- 30\n",
      "roti Rs/- 40\n",
      "chapati Rs/- 50\n",
      "cooldrink Rs/- 100\n",
      "Give Your order:idly,roti,cooldrink\n",
      "your bill= Rs 160 /-\n"
     ]
    }
   ],
   "source": [
    "# Menu card\n",
    "print('Ramya Restaurent')\n",
    "menu={'idly':20,'dosa':30,'roti':40,'chapati':50,'cooldrink':100}\n",
    "print('Items available....../n')\n",
    "for item,price in menu.items():\n",
    "    print(item,'Rs/-',price)\n",
    "bill=0\n",
    "items=input('Give Your order:').split(',')\n",
    "for item in items:\n",
    "    if item in menu.keys():\n",
    "        bill=bill+menu[item]\n",
    "    elif item not in menu.keys():\n",
    "        print('sorry',item,'not available')\n",
    "print('your bill=','Rs',bill,'/-')"
   ]
  },
  {
   "cell_type": "code",
   "execution_count": 6,
   "metadata": {},
   "outputs": [
    {
     "name": "stdout",
     "output_type": "stream",
     "text": [
      "contact Bhanu added\n"
     ]
    }
   ],
   "source": [
    "# Contact application\n",
    "contacts={}\n",
    "def add_contact(name,num):\n",
    "    if name in contacts:\n",
    "        print(name,\"already exists\")\n",
    "    else:\n",
    "        contacts[name]=num\n",
    "        print('contact',name,'added')\n",
    "add_contact('Bhanu',7013229479)\n",
    "def del_contact(name):\n",
    "    if name in contacts:\n",
    "        contacts.pop(name)\n",
    "        print('contact',name,'deleted')\n",
    "# delete_contact()\n",
    "def search_contact(name):\n",
    "    if name in contacts:\n",
    "        print(name,contacts[name],sep=\":\")\n",
    "    else:\n",
    "        print('contact is not there')\n",
    "# search contact\n",
    "def edit_contact(name):\n",
    "    if name in contacts:\n",
    "        print(contacts[name])\n",
    "        num=int(input('New number'))\n",
    "        contacts[name]=num\n",
    "        print('contact updated')\n",
    "# edit_contact"
   ]
  },
  {
   "cell_type": "code",
   "execution_count": 7,
   "metadata": {},
   "outputs": [
    {
     "data": {
      "text/plain": [
       "{'Bhanu': 7013229479}"
      ]
     },
     "execution_count": 7,
     "metadata": {},
     "output_type": "execute_result"
    }
   ],
   "source": [
    "contacts"
   ]
  },
  {
   "cell_type": "code",
   "execution_count": 8,
   "metadata": {},
   "outputs": [
    {
     "name": "stdout",
     "output_type": "stream",
     "text": [
      "contact ramya added\n"
     ]
    }
   ],
   "source": [
    "add_contact('ramya',123456789)"
   ]
  },
  {
   "cell_type": "code",
   "execution_count": 9,
   "metadata": {},
   "outputs": [
    {
     "data": {
      "text/plain": [
       "{'Bhanu': 7013229479, 'ramya': 123456789}"
      ]
     },
     "execution_count": 9,
     "metadata": {},
     "output_type": "execute_result"
    }
   ],
   "source": [
    "contacts"
   ]
  },
  {
   "cell_type": "code",
   "execution_count": 10,
   "metadata": {},
   "outputs": [
    {
     "name": "stdout",
     "output_type": "stream",
     "text": [
      "contact king added\n"
     ]
    }
   ],
   "source": [
    "add_contact('king',9546789456)"
   ]
  },
  {
   "cell_type": "code",
   "execution_count": 11,
   "metadata": {},
   "outputs": [
    {
     "data": {
      "text/plain": [
       "{'Bhanu': 7013229479, 'ramya': 123456789, 'king': 9546789456}"
      ]
     },
     "execution_count": 11,
     "metadata": {},
     "output_type": "execute_result"
    }
   ],
   "source": [
    "contacts"
   ]
  },
  {
   "cell_type": "code",
   "execution_count": 12,
   "metadata": {},
   "outputs": [
    {
     "name": "stdout",
     "output_type": "stream",
     "text": [
      "Bhanu:7013229479\n"
     ]
    }
   ],
   "source": [
    "search_contact('Bhanu')"
   ]
  },
  {
   "cell_type": "code",
   "execution_count": 13,
   "metadata": {},
   "outputs": [
    {
     "name": "stdout",
     "output_type": "stream",
     "text": [
      "ramya:123456789\n"
     ]
    }
   ],
   "source": [
    "search_contact('ramya')"
   ]
  },
  {
   "cell_type": "code",
   "execution_count": 14,
   "metadata": {},
   "outputs": [
    {
     "name": "stdout",
     "output_type": "stream",
     "text": [
      "king:9546789456\n"
     ]
    }
   ],
   "source": [
    "search_contact('king')"
   ]
  },
  {
   "cell_type": "code",
   "execution_count": 15,
   "metadata": {},
   "outputs": [
    {
     "name": "stdout",
     "output_type": "stream",
     "text": [
      "123456789\n",
      "New number7013229993\n",
      "contact updated\n"
     ]
    }
   ],
   "source": [
    "edit_contact('ramya')"
   ]
  },
  {
   "cell_type": "code",
   "execution_count": 16,
   "metadata": {},
   "outputs": [
    {
     "data": {
      "text/plain": [
       "{'Bhanu': 7013229479, 'ramya': 7013229993, 'king': 9546789456}"
      ]
     },
     "execution_count": 16,
     "metadata": {},
     "output_type": "execute_result"
    }
   ],
   "source": [
    "contacts"
   ]
  },
  {
   "cell_type": "code",
   "execution_count": 17,
   "metadata": {},
   "outputs": [
    {
     "data": {
      "text/plain": [
       "7013229479"
      ]
     },
     "execution_count": 17,
     "metadata": {},
     "output_type": "execute_result"
    }
   ],
   "source": [
    "contacts.get('Bhanu')"
   ]
  },
  {
   "cell_type": "code",
   "execution_count": 19,
   "metadata": {},
   "outputs": [
    {
     "name": "stdout",
     "output_type": "stream",
     "text": [
      "contact ramya deleted\n"
     ]
    }
   ],
   "source": [
    "del_contact('ramya')"
   ]
  },
  {
   "cell_type": "code",
   "execution_count": 20,
   "metadata": {},
   "outputs": [
    {
     "data": {
      "text/plain": [
       "{'Bhanu': 7013229479, 'king': 9546789456}"
      ]
     },
     "execution_count": 20,
     "metadata": {},
     "output_type": "execute_result"
    }
   ],
   "source": [
    "contacts"
   ]
  },
  {
   "cell_type": "code",
   "execution_count": 21,
   "metadata": {},
   "outputs": [
    {
     "name": "stdout",
     "output_type": "stream",
     "text": [
      "contact is not there\n"
     ]
    }
   ],
   "source": [
    "search_contact('ramya')"
   ]
  },
  {
   "cell_type": "code",
   "execution_count": 23,
   "metadata": {},
   "outputs": [
    {
     "name": "stdout",
     "output_type": "stream",
     "text": [
      "contact ramya added\n"
     ]
    }
   ],
   "source": [
    "add_contact('ramya',70132294799)"
   ]
  },
  {
   "cell_type": "code",
   "execution_count": 24,
   "metadata": {},
   "outputs": [
    {
     "data": {
      "text/plain": [
       "{'Bhanu': 7013229479, 'king': 9546789456, 'ramya': 70132294799}"
      ]
     },
     "execution_count": 24,
     "metadata": {},
     "output_type": "execute_result"
    }
   ],
   "source": [
    "contacts"
   ]
  },
  {
   "cell_type": "code",
   "execution_count": 25,
   "metadata": {},
   "outputs": [
    {
     "name": "stdout",
     "output_type": "stream",
     "text": [
      "ramya:70132294799\n"
     ]
    }
   ],
   "source": [
    "search_contact('ramya')"
   ]
  },
  {
   "cell_type": "code",
   "execution_count": 29,
   "metadata": {
    "collapsed": true
   },
   "outputs": [
    {
     "ename": "IndentationError",
     "evalue": "expected an indented block (<ipython-input-29-10723db66114>, line 20)",
     "output_type": "error",
     "traceback": [
      "\u001b[1;36m  File \u001b[1;32m\"<ipython-input-29-10723db66114>\"\u001b[1;36m, line \u001b[1;32m20\u001b[0m\n\u001b[1;33m    print(j,k)\u001b[0m\n\u001b[1;37m              ^\u001b[0m\n\u001b[1;31mIndentationError\u001b[0m\u001b[1;31m:\u001b[0m expected an indented block\n"
     ]
    }
   ],
   "source": [
    "Name=[\"\"]\n",
    "Pno=[\" \"]\n",
    "what=\" \"\n",
    "while what != \"exit\":\n",
    "    what=input(\"\"\"\n",
    "    save_contact => save\n",
    "    print_contacts => print\n",
    "    QUIT => exit\n",
    "    >\"\"\")\n",
    "if what==\"save\":\n",
    "    for i in range(100):\n",
    "        Name.insert(i,input(\"name: \"))\n",
    "        Pno.insert(i,input(\"p.no: \"))\n",
    "        print(\"contact saved successfully\")\n",
    "ask = input(\"save more or no:\")\n",
    "if ask==\"no\":\n",
    "    break\n",
    "elif what==\"print\":\n",
    "    for j,k in zip(Name,Pno):\n",
    "print(j,k)\n",
    "elif what==\"exit\":\n",
    "    continue\n",
    "else:\n",
    "    print(\"sellect correct option in small charector\")"
   ]
  },
  {
   "cell_type": "code",
   "execution_count": 31,
   "metadata": {},
   "outputs": [
    {
     "name": "stdout",
     "output_type": "stream",
     "text": [
      "mamamamma\n",
      "NO\n"
     ]
    }
   ],
   "source": [
    "s1=input()\n",
    "s2=s1[::-1]\n",
    "if s1==s2:\n",
    "    print(\"YES\")\n",
    "else:\n",
    "    print(\"NO\")"
   ]
  },
  {
   "cell_type": "code",
   "execution_count": 33,
   "metadata": {},
   "outputs": [
    {
     "name": "stdout",
     "output_type": "stream",
     "text": [
      "10\n",
      "3628800\n"
     ]
    }
   ],
   "source": [
    "# factorial\n",
    "def fact(n):\n",
    "    f=1\n",
    "    for i in range(1,n+1):\n",
    "        f=f*i\n",
    "    print(f)\n",
    "    return\n",
    "n=int(input())\n",
    "fact(n)"
   ]
  },
  {
   "cell_type": "code",
   "execution_count": 34,
   "metadata": {},
   "outputs": [],
   "source": [
    "#Tasks: \n",
    "#Find product\n",
    "#Factorial\n",
    "#char sum"
   ]
  },
  {
   "cell_type": "code",
   "execution_count": 44,
   "metadata": {},
   "outputs": [
    {
     "name": "stdout",
     "output_type": "stream",
     "text": [
      "aba\n",
      "4\n"
     ]
    }
   ],
   "source": [
    "# char sum\n",
    "s=input()\n",
    "def charsum(s):\n",
    "    count=0\n",
    "    for i in s:\n",
    "        s1=ord(i)-96\n",
    "        count=count+s1\n",
    "    print(count)\n",
    "charsum(s)"
   ]
  },
  {
   "cell_type": "code",
   "execution_count": 39,
   "metadata": {},
   "outputs": [
    {
     "data": {
      "text/plain": [
       "97"
      ]
     },
     "execution_count": 39,
     "metadata": {},
     "output_type": "execute_result"
    }
   ],
   "source": [
    "ord('a')"
   ]
  },
  {
   "cell_type": "code",
   "execution_count": 45,
   "metadata": {},
   "outputs": [
    {
     "name": "stdout",
     "output_type": "stream",
     "text": [
      "6\n",
      "8\n",
      "8\n"
     ]
    }
   ],
   "source": [
    "# Find product\n",
    "#There are 5 integers to multiply. \n",
    "#Let's store the final answer in  variable.\n",
    "#Since 1 is identity value for multiplication, initialize  as 1.\n",
    "b=int(input())\n",
    "h=list(map(int,input().split()))\n",
    "answer=1\n",
    "for i in h:\n",
    "    answer=(answer*i)%(10**9+7)\n",
    "print(answer)"
   ]
  },
  {
   "cell_type": "code",
   "execution_count": null,
   "metadata": {},
   "outputs": [],
   "source": []
  }
 ],
 "metadata": {
  "kernelspec": {
   "display_name": "Python 3",
   "language": "python",
   "name": "python3"
  },
  "language_info": {
   "codemirror_mode": {
    "name": "ipython",
    "version": 3
   },
   "file_extension": ".py",
   "mimetype": "text/x-python",
   "name": "python",
   "nbconvert_exporter": "python",
   "pygments_lexer": "ipython3",
   "version": "3.7.4"
  }
 },
 "nbformat": 4,
 "nbformat_minor": 2
}
