{
 "cells": [
  {
   "cell_type": "code",
   "execution_count": 2,
   "metadata": {},
   "outputs": [
    {
     "name": "stdout",
     "output_type": "stream",
     "text": [
      "first constructor executed\n",
      "second constructor is excuted\n"
     ]
    },
    {
     "data": {
      "text/plain": [
       "<__main__.second at 0x2236dcdeb48>"
      ]
     },
     "execution_count": 2,
     "metadata": {},
     "output_type": "execute_result"
    }
   ],
   "source": [
    "class first:\n",
    "    def __init__(self):\n",
    "        print(\"first constructor executed\")\n",
    "    def a(self):\n",
    "        print(\" a excuted\")\n",
    "    def b(self):\n",
    "        print(\"b excuted\")\n",
    "class second(first):\n",
    "    def __init__(self):\n",
    "        super().__init__()\n",
    "        print(\"second constructor is excuted\")\n",
    "    def c(self):\n",
    "        print(\"c excuted\")\n",
    "    def d(self):\n",
    "        print(\"d excuted\")\n",
    "z=second()\n",
    "z"
   ]
  },
  {
   "cell_type": "code",
   "execution_count": 7,
   "metadata": {},
   "outputs": [
    {
     "name": "stdout",
     "output_type": "stream",
     "text": [
      "second constructor is excuted\n",
      "third constructor excuted\n"
     ]
    },
    {
     "data": {
      "text/plain": [
       "<__main__.third at 0x2236ddbfcc8>"
      ]
     },
     "execution_count": 7,
     "metadata": {},
     "output_type": "execute_result"
    }
   ],
   "source": [
    "class first:\n",
    "    def __init__(self):\n",
    "        print(\"first constructor executed\")\n",
    "    def a(self):\n",
    "        print(\" a excuted\")\n",
    "    def b(self):\n",
    "        print(\"b excuted\")\n",
    "class second(first):\n",
    "    def __init__(self):\n",
    "        print(\"second constructor is excuted\")\n",
    "    def c(self):\n",
    "        print(\"c excuted\")\n",
    "    def d(self):\n",
    "        print(\"d excuted\")\n",
    "class third(second,first):       # method resolution order left to right\n",
    "    def __init__(self):\n",
    "        super().__init__()\n",
    "        print(\"third constructor excuted\")\n",
    "    def e(self):\n",
    "        print(\"e excuted\")\n",
    "    def f(self):\n",
    "        print(\"f excuted\")\n",
    "z=third()\n",
    "z"
   ]
  },
  {
   "cell_type": "code",
   "execution_count": null,
   "metadata": {},
   "outputs": [],
   "source": [
    "# modules\n",
    "import mo"
   ]
  }
 ],
 "metadata": {
  "kernelspec": {
   "display_name": "Python 3",
   "language": "python",
   "name": "python3"
  },
  "language_info": {
   "codemirror_mode": {
    "name": "ipython",
    "version": 3
   },
   "file_extension": ".py",
   "mimetype": "text/x-python",
   "name": "python",
   "nbconvert_exporter": "python",
   "pygments_lexer": "ipython3",
   "version": "3.7.4"
  }
 },
 "nbformat": 4,
 "nbformat_minor": 2
}
