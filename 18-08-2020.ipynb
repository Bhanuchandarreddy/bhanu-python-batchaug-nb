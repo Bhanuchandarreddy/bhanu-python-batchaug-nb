{
 "cells": [
  {
   "cell_type": "markdown",
   "metadata": {},
   "source": [
    "# OOPS .... Object Oriented Programming\n",
    "\n",
    "- class\n",
    "- object\n",
    "- reference variable"
   ]
  },
  {
   "cell_type": "markdown",
   "metadata": {},
   "source": [
    "class classname:\n",
    "\n",
    "    statements "
   ]
  },
  {
   "cell_type": "code",
   "execution_count": 3,
   "metadata": {},
   "outputs": [
    {
     "data": {
      "text/plain": [
       "__main__.Student"
      ]
     },
     "execution_count": 3,
     "metadata": {},
     "output_type": "execute_result"
    }
   ],
   "source": [
    "class Student:\n",
    "    pass\n",
    "a=Student    # object\n",
    "a           # reference variable"
   ]
  },
  {
   "cell_type": "code",
   "execution_count": 4,
   "metadata": {},
   "outputs": [
    {
     "data": {
      "text/plain": [
       "<__main__.Student at 0x2a70c951208>"
      ]
     },
     "execution_count": 4,
     "metadata": {},
     "output_type": "execute_result"
    }
   ],
   "source": [
    "class Student:\n",
    "    '''this is an example to create a class'''\n",
    "a=Student()\n",
    "a"
   ]
  },
  {
   "cell_type": "code",
   "execution_count": 5,
   "metadata": {},
   "outputs": [
    {
     "data": {
      "text/plain": [
       "'this is an example to create a class'"
      ]
     },
     "execution_count": 5,
     "metadata": {},
     "output_type": "execute_result"
    }
   ],
   "source": [
    "a.__doc__"
   ]
  },
  {
   "cell_type": "markdown",
   "metadata": {},
   "source": [
    "# Constructor (the method which we write for object varibles)\n",
    "\n",
    "- to intialize and declare the variables\n",
    "- method should be given as __init__ only\n",
    "- whenever we are refering an object the constructor will be executed"
   ]
  },
  {
   "cell_type": "code",
   "execution_count": 6,
   "metadata": {},
   "outputs": [
    {
     "name": "stdout",
     "output_type": "stream",
     "text": [
      "constructor is getting executed\n"
     ]
    },
    {
     "data": {
      "text/plain": [
       "<__main__.Student at 0x2a70c965548>"
      ]
     },
     "execution_count": 6,
     "metadata": {},
     "output_type": "execute_result"
    }
   ],
   "source": [
    "class Student:\n",
    "    def __init__(self):\n",
    "        print(\"constructor is getting executed\")\n",
    "a=Student()\n",
    "a"
   ]
  },
  {
   "cell_type": "code",
   "execution_count": 7,
   "metadata": {},
   "outputs": [
    {
     "name": "stdout",
     "output_type": "stream",
     "text": [
      "constructor is getting executed\n",
      "constructor is getting executed\n"
     ]
    },
    {
     "data": {
      "text/plain": [
       "<__main__.Student at 0x2a70c805f08>"
      ]
     },
     "execution_count": 7,
     "metadata": {},
     "output_type": "execute_result"
    }
   ],
   "source": [
    "class Student:\n",
    "    def __init__(self):\n",
    "        print(\"constructor is getting executed\")\n",
    "a=Student()\n",
    "b=Student()\n",
    "a\n",
    "#print(b)"
   ]
  },
  {
   "cell_type": "code",
   "execution_count": 8,
   "metadata": {},
   "outputs": [
    {
     "ename": "TypeError",
     "evalue": "__init__() takes 1 positional argument but 3 were given",
     "output_type": "error",
     "traceback": [
      "\u001b[1;31m---------------------------------------------------------------------------\u001b[0m",
      "\u001b[1;31mTypeError\u001b[0m                                 Traceback (most recent call last)",
      "\u001b[1;32m<ipython-input-8-428173e9c45c>\u001b[0m in \u001b[0;36m<module>\u001b[1;34m\u001b[0m\n\u001b[0;32m      6\u001b[0m     \u001b[1;32mdef\u001b[0m \u001b[0m__init__\u001b[0m\u001b[1;33m(\u001b[0m\u001b[0mself\u001b[0m\u001b[1;33m)\u001b[0m\u001b[1;33m:\u001b[0m\u001b[1;33m\u001b[0m\u001b[1;33m\u001b[0m\u001b[0m\n\u001b[0;32m      7\u001b[0m         \u001b[0mprint\u001b[0m\u001b[1;33m(\u001b[0m\u001b[1;34m\"contructor 2 is executed\"\u001b[0m\u001b[1;33m)\u001b[0m\u001b[1;33m\u001b[0m\u001b[1;33m\u001b[0m\u001b[0m\n\u001b[1;32m----> 8\u001b[1;33m \u001b[0ma\u001b[0m\u001b[1;33m=\u001b[0m\u001b[0mStudent\u001b[0m\u001b[1;33m(\u001b[0m\u001b[1;34m'python'\u001b[0m\u001b[1;33m,\u001b[0m\u001b[1;36m1\u001b[0m\u001b[1;33m)\u001b[0m\u001b[1;33m\u001b[0m\u001b[1;33m\u001b[0m\u001b[0m\n\u001b[0m\u001b[0;32m      9\u001b[0m \u001b[0mb\u001b[0m\u001b[1;33m=\u001b[0m\u001b[0mStudent\u001b[0m\u001b[1;33m(\u001b[0m\u001b[1;34m'online'\u001b[0m\u001b[1;33m,\u001b[0m\u001b[1;36m2\u001b[0m\u001b[1;33m)\u001b[0m\u001b[1;33m\u001b[0m\u001b[1;33m\u001b[0m\u001b[0m\n\u001b[0;32m     10\u001b[0m \u001b[0mprint\u001b[0m\u001b[1;33m(\u001b[0m\u001b[0ma\u001b[0m\u001b[1;33m)\u001b[0m\u001b[1;33m\u001b[0m\u001b[1;33m\u001b[0m\u001b[0m\n",
      "\u001b[1;31mTypeError\u001b[0m: __init__() takes 1 positional argument but 3 were given"
     ]
    }
   ],
   "source": [
    "class Student:\n",
    "    def __init__(self,name,rollno):\n",
    "        self.name=name\n",
    "        self.rollno=rollno\n",
    "        print(\"constructor executed\")\n",
    "    def __init__(self):\n",
    "        print(\"contructor 2 is executed\")\n",
    "a=Student('python',1)\n",
    "b=Student('online',2)\n",
    "print(a)\n",
    "b"
   ]
  },
  {
   "cell_type": "markdown",
   "metadata": {},
   "source": [
    "# Self\n",
    "\n",
    "- self is a reference variale which is always pointing to current object\n",
    "- with in the class to refer current object we use self variable\n",
    "- we need not provide value for self arg while creatimg an object.\n",
    "- the first arg for the constructor and all other methods in the class should be self"
   ]
  },
  {
   "cell_type": "code",
   "execution_count": 9,
   "metadata": {},
   "outputs": [
    {
     "name": "stdout",
     "output_type": "stream",
     "text": [
      "constructor executed\n",
      "name: vvit\n",
      "rollno 10\n"
     ]
    }
   ],
   "source": [
    "class Student:\n",
    "    def __init__(self,name,rollno):\n",
    "        self.name=name\n",
    "        self.rollno=rollno\n",
    "        print(\"constructor executed\")\n",
    "    def display(self):\n",
    "        print(\"name:\",self.name)\n",
    "        print(\"rollno\",self.rollno)\n",
    "a=Student('vvit',10)\n",
    "a.display()"
   ]
  },
  {
   "cell_type": "code",
   "execution_count": 10,
   "metadata": {},
   "outputs": [
    {
     "name": "stdout",
     "output_type": "stream",
     "text": [
      "70\n",
      "144\n",
      "43\n"
     ]
    }
   ],
   "source": [
    "class calc:\n",
    "    '''this class is for performing some arithematic operations'''\n",
    "    def __init__(self,a,b):\n",
    "        self.num1=a\n",
    "        self.num2=b\n",
    "    def add(self):\n",
    "        print(self.num1+self.num2)\n",
    "obj1=calc(20,50)\n",
    "obj1.add()\n",
    "obj2=calc(57,87)\n",
    "obj2.add()\n",
    "obj3=calc(15,28)\n",
    "obj3.add()"
   ]
  },
  {
   "cell_type": "code",
   "execution_count": 11,
   "metadata": {},
   "outputs": [
    {
     "name": "stdout",
     "output_type": "stream",
     "text": [
      "2916494003208\n",
      "constructtor is executd\n",
      "2916494003208\n"
     ]
    }
   ],
   "source": [
    "class Student:\n",
    "    def __init__(self,name,rollno):\n",
    "        print(id(self))\n",
    "        self.name=name\n",
    "        self.rollno=rollno\n",
    "        print(\"constructtor is executd\")\n",
    "a=Student('apssdc',1)\n",
    "print(id(a))"
   ]
  },
  {
   "cell_type": "code",
   "execution_count": 12,
   "metadata": {},
   "outputs": [
    {
     "name": "stdout",
     "output_type": "stream",
     "text": [
      "name gayathri\n"
     ]
    }
   ],
   "source": [
    "class Employee:\n",
    "    def __init__(self,name,age,salary):\n",
    "        self.name=name\n",
    "        self.age=age\n",
    "        self.salary=salary\n",
    "    def display(self):\n",
    "        print(\"name\",self.name)\n",
    "a=Employee(\"gayathri\",20,3.5)\n",
    "a.display()"
   ]
  },
  {
   "cell_type": "markdown",
   "metadata": {},
   "source": [
    "# Types of variables\n",
    "\n",
    "- instance variables\n",
    "- static variables\n",
    "- local variables"
   ]
  },
  {
   "cell_type": "code",
   "execution_count": 13,
   "metadata": {},
   "outputs": [
    {
     "data": {
      "text/plain": [
       "10"
      ]
     },
     "execution_count": 13,
     "metadata": {},
     "output_type": "execute_result"
    }
   ],
   "source": [
    "def sub(a,b):\n",
    "    return a-b\n",
    "sub(20,10)"
   ]
  },
  {
   "cell_type": "code",
   "execution_count": 15,
   "metadata": {},
   "outputs": [
    {
     "name": "stdout",
     "output_type": "stream",
     "text": [
      "name of the company: Apssdc\n",
      "3\n"
     ]
    }
   ],
   "source": [
    "class Employee:\n",
    "    cname=\"Apssdc\"\n",
    "    def __init__(self,name,age,salary):\n",
    "        self.name=name\n",
    "        self.age=age\n",
    "        self.salary=salary\n",
    "    def display(self):\n",
    "        print(\"name\",self.name)\n",
    "   \n",
    "  #  @classmethod     \n",
    "    def company(cls):\n",
    "        print(\"name of the company:\",cls.cname)\n",
    "  #  @static method\n",
    "    def div(self,a,b):\n",
    "        print(a//b)\n",
    "a=Employee(\"Apssdc\",28,4.0)\n",
    "Employee.company(a)\n",
    "Employee.div(a,6,2)"
   ]
  },
  {
   "cell_type": "markdown",
   "metadata": {},
   "source": [
    "## Types of methods\n",
    "\n",
    "- instance method\n",
    "   - this method consists if instance variables\n",
    "- class method\n",
    "   - if u r considering the first arg as class\n",
    "- static method\n",
    "   - if we use local variables."
   ]
  },
  {
   "cell_type": "code",
   "execution_count": 16,
   "metadata": {},
   "outputs": [
    {
     "name": "stdout",
     "output_type": "stream",
     "text": [
      "a executed\n",
      "b executed\n"
     ]
    }
   ],
   "source": [
    "class one:\n",
    "    def a(self):\n",
    "        print(\"a executed\")\n",
    "    def b(self):\n",
    "        print(\"b executed\")\n",
    "d=one()\n",
    "d.a()\n",
    "d.b()"
   ]
  },
  {
   "cell_type": "code",
   "execution_count": 17,
   "metadata": {},
   "outputs": [
    {
     "name": "stdout",
     "output_type": "stream",
     "text": [
      "a executed\n"
     ]
    }
   ],
   "source": [
    "# Single level inheritance\n",
    "class first:            # parent class/super\n",
    "    def a(self):\n",
    "        print(\"a executed\")\n",
    "    def b(self):\n",
    "        print(\"b executed\")\n",
    "class second(first):          # child class/sub\n",
    "    def c(self):\n",
    "        print(\"c executed\")\n",
    "    def d(self):\n",
    "        print(\"d executed\")\n",
    "f=second()\n",
    "f.a()"
   ]
  },
  {
   "cell_type": "code",
   "execution_count": 18,
   "metadata": {},
   "outputs": [
    {
     "name": "stdout",
     "output_type": "stream",
     "text": [
      "a executed\n",
      "c executed\n"
     ]
    }
   ],
   "source": [
    "# multi level inheritance\n",
    "class first:            # parent class/super\n",
    "    def a(self):\n",
    "        print(\"a executed\")\n",
    "    def b(self):\n",
    "        print(\"b executed\")\n",
    "class second():          # child class/sub\n",
    "    def c(self):\n",
    "        print(\"c executed\")\n",
    "    def d(self):\n",
    "        print(\"d executed\")\n",
    "class third(first,second):   # grand parent class\n",
    "    def e(self):\n",
    "        print(\"e executed\")\n",
    "    def f(self):\n",
    "        print(\"f executed\")\n",
    "z=third()\n",
    "z.a()\n",
    "z.c()"
   ]
  },
  {
   "cell_type": "code",
   "execution_count": 25,
   "metadata": {},
   "outputs": [
    {
     "name": "stdout",
     "output_type": "stream",
     "text": [
      "second constructor executed\n"
     ]
    },
    {
     "data": {
      "text/plain": [
       "<__main__.second at 0x2a70c986bc8>"
      ]
     },
     "execution_count": 25,
     "metadata": {},
     "output_type": "execute_result"
    }
   ],
   "source": [
    "class first:\n",
    "    def __init__(self):\n",
    "        print(\"first constructor executed\")\n",
    "    def a(self):\n",
    "        print(\"a executed\")\n",
    "    def b(self):\n",
    "        print(\"b executed\")\n",
    "class second(first):\n",
    "    def __init__(self):\n",
    "        print(\"second constructor executed\")\n",
    "    def c(self):\n",
    "        print(\"c executed\")\n",
    "    def d(self):\n",
    "        print(\"d exected\")\n",
    "z=second()\n",
    "z"
   ]
  },
  {
   "cell_type": "code",
   "execution_count": 20,
   "metadata": {},
   "outputs": [
    {
     "name": "stdout",
     "output_type": "stream",
     "text": [
      "first constructor executed\n"
     ]
    },
    {
     "data": {
      "text/plain": [
       "<__main__.third at 0x2a70c972348>"
      ]
     },
     "execution_count": 20,
     "metadata": {},
     "output_type": "execute_result"
    }
   ],
   "source": [
    "class first:            # parent class/super\n",
    "    def __init__(self):\n",
    "        print(\"first constructor executed\")\n",
    "    def a(self):\n",
    "        print(\"a executed\")\n",
    "    def b(self):\n",
    "        print(\"b executed\")\n",
    "class second():          # child class/sub\n",
    "    def __init__(self):\n",
    "        print(\"second constructor executed\")\n",
    "    def c(self):\n",
    "        print(\"c executed\")\n",
    "    def d(self):\n",
    "        print(\"d executed\")\n",
    "class third(first,second):   # grand parent class\n",
    "    def e(self):\n",
    "        print(\"e executed\")\n",
    "    def f(self):\n",
    "        print(\"f executed\")\n",
    "z=third()\n",
    "z"
   ]
  },
  {
   "cell_type": "code",
   "execution_count": 21,
   "metadata": {},
   "outputs": [
    {
     "name": "stdout",
     "output_type": "stream",
     "text": [
      "a exe\n"
     ]
    }
   ],
   "source": [
    "class one():   # grand parent\n",
    "    def a():\n",
    "        print(\"a exe\")\n",
    "    def b():\n",
    "        print(\"b exe\")\n",
    "\n",
    "class two(one): # parent\n",
    "    def c():\n",
    "        print(\"c exe\")\n",
    "    def d():\n",
    "        print(\"d exe\")\n",
    "\n",
    "        \n",
    "class three(two):  # child\n",
    "    def e():\n",
    "        print(\"e exe\")\n",
    "    def f():\n",
    "        print(\"e exe\")\n",
    "\n",
    "three.a()     "
   ]
  },
  {
   "cell_type": "code",
   "execution_count": null,
   "metadata": {},
   "outputs": [],
   "source": []
  }
 ],
 "metadata": {
  "kernelspec": {
   "display_name": "Python 3",
   "language": "python",
   "name": "python3"
  },
  "language_info": {
   "codemirror_mode": {
    "name": "ipython",
    "version": 3
   },
   "file_extension": ".py",
   "mimetype": "text/x-python",
   "name": "python",
   "nbconvert_exporter": "python",
   "pygments_lexer": "ipython3",
   "version": "3.7.4"
  }
 },
 "nbformat": 4,
 "nbformat_minor": 2
}
